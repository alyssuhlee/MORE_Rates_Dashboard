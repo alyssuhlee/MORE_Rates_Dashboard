{
 "cells": [
  {
   "cell_type": "code",
   "execution_count": 28,
   "metadata": {},
   "outputs": [],
   "source": [
    "# IMPORTS\n",
    "import mysql.connector\n",
    "import pandas as pd\n",
    "\n",
    "# Set up MySQL connection\n",
    "conn = mysql.connector.connect(\n",
    "    host='cesra-db.cxkuksua06qz.ap-southeast-1.rds.amazonaws.com', \n",
    "    port=3309,       \n",
    "    database='du_rates_comparison',         \n",
    "    user='cesra_dbm',             \n",
    "    password='ibIDN0NcnGYo71qDZuHw'      \n",
    ")\n",
    "\n",
    "# Create a cursor object to interact with the database\n",
    "cursor = conn.cursor()"
   ]
  },
  {
   "cell_type": "code",
   "execution_count": 31,
   "metadata": {},
   "outputs": [
    {
     "data": {
      "text/plain": [
       "('LASURECO',)"
      ]
     },
     "execution_count": 31,
     "metadata": {},
     "output_type": "execute_result"
    }
   ],
   "source": [
    "# April 2023\n",
    "query_31 = \"SELECT Apr_23 FROM res_rate WHERE Short_Name = 'MORE POWER'\"\n",
    "# Execute the query\n",
    "cursor.execute(query_31)\n",
    "# Fetch the result\n",
    "result_31 = cursor.fetchone()\n",
    "if result_31:\n",
    "    result_31 = (f\"{result_31[0]:.4f}\",)"
   ]
  }
 ],
 "metadata": {
  "kernelspec": {
   "display_name": "Python 3",
   "language": "python",
   "name": "python3"
  },
  "language_info": {
   "codemirror_mode": {
    "name": "ipython",
    "version": 3
   },
   "file_extension": ".py",
   "mimetype": "text/x-python",
   "name": "python",
   "nbconvert_exporter": "python",
   "pygments_lexer": "ipython3",
   "version": "3.11.9"
  }
 },
 "nbformat": 4,
 "nbformat_minor": 2
}
